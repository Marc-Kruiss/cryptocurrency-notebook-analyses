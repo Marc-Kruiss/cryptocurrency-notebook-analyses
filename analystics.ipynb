{
 "cells": [
  {
   "cell_type": "code",
   "execution_count": 2,
   "id": "c1a21f53",
   "metadata": {},
   "outputs": [],
   "source": [
    "import pandas as pd"
   ]
  },
  {
   "cell_type": "code",
   "execution_count": 19,
   "id": "2cb73e0c",
   "metadata": {},
   "outputs": [
    {
     "name": "stdout",
     "output_type": "stream",
     "text": [
      "   SNo          Name Symbol                 Date      High       Low  \\\n",
      "0    1  Binance Coin    BNB  2017-07-26 23:59:59  0.109013  0.099266   \n",
      "1    2  Binance Coin    BNB  2017-07-27 23:59:59  0.108479  0.100888   \n",
      "2    3  Binance Coin    BNB  2017-07-28 23:59:59  0.109019  0.101473   \n",
      "3    4  Binance Coin    BNB  2017-07-29 23:59:59  0.111264  0.101108   \n",
      "4    5  Binance Coin    BNB  2017-07-30 23:59:59  0.108138  0.103162   \n",
      "5    6  Binance Coin    BNB  2017-07-31 23:59:59  0.108349  0.101600   \n",
      "6    7  Binance Coin    BNB  2017-08-01 23:59:59  0.106266  0.096109   \n",
      "7    8  Binance Coin    BNB  2017-08-02 23:59:59  0.101211  0.097361   \n",
      "8    9  Binance Coin    BNB  2017-08-03 23:59:59  0.106978  0.099120   \n",
      "9   10  Binance Coin    BNB  2017-08-04 23:59:59  0.107756  0.102699   \n",
      "\n",
      "       Open     Close    Volume   Marketcap  \n",
      "0  0.105893  0.105138  200395.0  10513800.0  \n",
      "1  0.105108  0.107737  344499.0  10773700.0  \n",
      "2  0.107632  0.104067  342568.0  10406700.0  \n",
      "3  0.104782  0.107811  340218.0  10781100.0  \n",
      "4  0.107935  0.106414  224261.0  10641400.0  \n",
      "5  0.106828  0.104250  240309.0  10425000.0  \n",
      "6  0.104595  0.099867  300413.0   9986680.0  \n",
      "7  0.099721  0.100452  256793.0  10045200.0  \n",
      "8  0.100328  0.106642  293008.0  10664200.0  \n",
      "9  0.106685  0.107494  287621.0  10749400.0  \n",
      "   SNo      Name Symbol                 Date      High       Low      Open  \\\n",
      "0    1  Dogecoin   DOGE  2013-12-16 23:59:59  0.000866  0.000150  0.000299   \n",
      "1    2  Dogecoin   DOGE  2013-12-17 23:59:59  0.000289  0.000116  0.000207   \n",
      "2    3  Dogecoin   DOGE  2013-12-18 23:59:59  0.000362  0.000205  0.000267   \n",
      "3    4  Dogecoin   DOGE  2013-12-19 23:59:59  0.001520  0.000328  0.000395   \n",
      "4    5  Dogecoin   DOGE  2013-12-20 23:59:59  0.001143  0.000662  0.001143   \n",
      "5    6  Dogecoin   DOGE  2013-12-21 23:59:59  0.000700  0.000354  0.000700   \n",
      "6    7  Dogecoin   DOGE  2013-12-22 23:59:59  0.000498  0.000280  0.000391   \n",
      "7    8  Dogecoin   DOGE  2013-12-23 23:59:59  0.000460  0.000294  0.000313   \n",
      "8    9  Dogecoin   DOGE  2013-12-24 23:59:59  0.000913  0.000450  0.000450   \n",
      "9   10  Dogecoin   DOGE  2013-12-25 23:59:59  0.000694  0.000558  0.000686   \n",
      "\n",
      "      Close  Volume     Marketcap  \n",
      "0  0.000205     0.0  1.509085e+06  \n",
      "1  0.000269     0.0  2.169688e+06  \n",
      "2  0.000362     0.0  3.188943e+06  \n",
      "3  0.001162     0.0  1.115034e+07  \n",
      "4  0.000704     0.0  7.284337e+06  \n",
      "5  0.000394     0.0  4.360316e+06  \n",
      "6  0.000315     0.0  3.706592e+06  \n",
      "7  0.000451     0.0  5.644793e+06  \n",
      "8  0.000686     0.0  9.075938e+06  \n",
      "9  0.000587     0.0  8.194483e+06  \n"
     ]
    }
   ],
   "source": [
    "bitcoin = pd.read_csv(\"./data/coin_BinanceCoin.csv\")\n",
    "dogecoin = pd.read_csv(\"./data/coin_Dogecoin.csv\")\n",
    "combined = pd.concat([bitcoin, dogecoin])\n",
    "print (bitcoin.head(10))\n",
    "print (dogecoin.head(10))\n"
   ]
  },
  {
   "cell_type": "code",
   "execution_count": null,
   "id": "9a1c27cc",
   "metadata": {},
   "outputs": [],
   "source": []
  }
 ],
 "metadata": {
  "kernelspec": {
   "display_name": "Python 3 (ipykernel)",
   "language": "python",
   "name": "python3"
  },
  "language_info": {
   "codemirror_mode": {
    "name": "ipython",
    "version": 3
   },
   "file_extension": ".py",
   "mimetype": "text/x-python",
   "name": "python",
   "nbconvert_exporter": "python",
   "pygments_lexer": "ipython3",
   "version": "3.8.2"
  }
 },
 "nbformat": 4,
 "nbformat_minor": 5
}
